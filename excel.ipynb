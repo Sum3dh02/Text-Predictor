{
 "cells": [
  {
   "cell_type": "code",
   "execution_count": 9,
   "metadata": {},
   "outputs": [],
   "source": [
    "import pandas as pd\n",
    "\n",
    "# Path to your exported WhatsApp chat file\n",
    "file_path = r'C:\\Users\\Lenovo\\Desktop\\txtpred\\sampletxt.txt'\n",
    "\n",
    "# Read the text file\n",
    "with open(file_path, 'r', encoding='utf-8') as file:\n",
    "    lines = file.readlines()\n",
    "\n",
    "# Process each line to extract date, time, sender, and message\n",
    "data = []\n",
    "for line in lines:\n",
    "    # Example format: \"01/07/21, 12:34 PM - John Doe: This is a message\"\n",
    "    parts = line.split(' - ', 1)\n",
    "    if len(parts) == 2:\n",
    "        date_time, message = parts\n",
    "        sender_message = message.split(': ', 1)\n",
    "        if len(sender_message) == 2:\n",
    "            sender, message = sender_message\n",
    "            data.append([date_time, sender, message])\n",
    "\n",
    "# Convert to DataFrame\n",
    "df = pd.DataFrame(data, columns=['DateTime', 'Sender', 'Message'])\n",
    "\n",
    "# Display the DataFrame\n",
    "df.head()\n",
    "\n",
    "# Save DataFrame to Excel\n",
    "df.to_excel('WhatsApp_Messages.xlsx', index=False)\n",
    "\n"
   ]
  }
 ],
 "metadata": {
  "kernelspec": {
   "display_name": "Python 3",
   "language": "python",
   "name": "python3"
  },
  "language_info": {
   "codemirror_mode": {
    "name": "ipython",
    "version": 3
   },
   "file_extension": ".py",
   "mimetype": "text/x-python",
   "name": "python",
   "nbconvert_exporter": "python",
   "pygments_lexer": "ipython3",
   "version": "3.12.3"
  }
 },
 "nbformat": 4,
 "nbformat_minor": 2
}
